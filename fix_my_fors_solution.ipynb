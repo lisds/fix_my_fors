{
 "cells": [
  {
   "cell_type": "markdown",
   "id": "6dcaf77b",
   "metadata": {},
   "source": []
  },
  {
   "cell_type": "code",
   "execution_count": 1,
   "id": "89b79e44",
   "metadata": {
    "execution": {
     "iopub.execute_input": "2022-10-24T09:27:20.772409Z",
     "iopub.status.busy": "2022-10-24T09:27:20.771995Z",
     "iopub.status.idle": "2022-10-24T09:27:20.823796Z",
     "shell.execute_reply": "2022-10-24T09:27:20.823145Z"
    }
   },
   "outputs": [],
   "source": [
    "# Don't change this cell; just run it.\n",
    "import numpy as np  # The array library."
   ]
  },
  {
   "cell_type": "markdown",
   "id": "dee2470b",
   "metadata": {},
   "source": [
    "This notebook does not have OKpy tests; please check your answers against the\n",
    "\"visual check\" hints after each question.\n",
    "\n",
    "All the cells below have errors in syntax or in logic. A syntax error happens\n",
    "when the code does not correspond to Python's rules; Python generates an error\n",
    "with some information about which bit of the code caused the problem.  A logic\n",
    "error is where the code does run, but does not do what it was intended to do.\n",
    "Run the cells to see the error, and then fix them to work correctly."
   ]
  },
  {
   "cell_type": "code",
   "execution_count": 2,
   "id": "c5f97723",
   "metadata": {
    "execution": {
     "iopub.execute_input": "2022-10-24T09:27:20.828410Z",
     "iopub.status.busy": "2022-10-24T09:27:20.827943Z",
     "iopub.status.idle": "2022-10-24T09:27:20.835715Z",
     "shell.execute_reply": "2022-10-24T09:27:20.831536Z"
    },
    "tags": [
     "raises-exception"
    ]
   },
   "outputs": [],
   "source": [
    "#- Print the numbers 0 through 2\n",
    "for my_var in np.arange(3):\n",
    "    print(my_var)"
   ]
  },
  {
   "cell_type": "markdown",
   "id": "3c96cb14",
   "metadata": {},
   "source": [
    "Visual check: you should see:\n",
    "\n",
    "```\n",
    "0\n",
    "1\n",
    "2\n",
    "```"
   ]
  },
  {
   "cell_type": "code",
   "execution_count": 3,
   "id": "e481b9b9",
   "metadata": {
    "execution": {
     "iopub.execute_input": "2022-10-24T09:27:20.839310Z",
     "iopub.status.busy": "2022-10-24T09:27:20.839068Z",
     "iopub.status.idle": "2022-10-24T09:27:20.842737Z",
     "shell.execute_reply": "2022-10-24T09:27:20.842241Z"
    },
    "tags": [
     "raises-exception"
    ]
   },
   "outputs": [],
   "source": [
    "#- Add up all the numbers from 3 through 10\n",
    "total = 0\n",
    "for i in np.arange(3, 11):\n",
    "    total = total + i\n",
    "print(total)"
   ]
  },
  {
   "cell_type": "markdown",
   "id": "a7265edd",
   "metadata": {},
   "source": [
    "Visual check - you should see 52."
   ]
  },
  {
   "cell_type": "code",
   "execution_count": 4,
   "id": "d3c02014",
   "metadata": {
    "execution": {
     "iopub.execute_input": "2022-10-24T09:27:20.845683Z",
     "iopub.status.busy": "2022-10-24T09:27:20.845331Z",
     "iopub.status.idle": "2022-10-24T09:27:20.848353Z",
     "shell.execute_reply": "2022-10-24T09:27:20.847831Z"
    },
    "tags": [
     "raises-exception"
    ]
   },
   "outputs": [],
   "source": [
    "#- Print all the numbers from 5 through 9\n",
    "for p in np.arange(5, 10):\n",
    "    print(p)"
   ]
  },
  {
   "cell_type": "markdown",
   "id": "d7f66941",
   "metadata": {},
   "source": [
    "You should see the numbers 5, 6, 7, 8, 9 printed, each on one line."
   ]
  },
  {
   "cell_type": "code",
   "execution_count": 5,
   "id": "54c3f89e",
   "metadata": {
    "execution": {
     "iopub.execute_input": "2022-10-24T09:27:20.851094Z",
     "iopub.status.busy": "2022-10-24T09:27:20.850892Z",
     "iopub.status.idle": "2022-10-24T09:27:20.854725Z",
     "shell.execute_reply": "2022-10-24T09:27:20.854184Z"
    },
    "tags": [
     "raises-exception"
    ]
   },
   "outputs": [],
   "source": [
    "#- Add all numbers from 3 down to -2, inclusive\n",
    "total = 0\n",
    "for i in np.arange(3, -3, -1):\n",
    "    total = total + i\n",
    "print(total)"
   ]
  },
  {
   "cell_type": "markdown",
   "id": "d55f8579",
   "metadata": {},
   "source": [
    "Visual check - you should have printed 3."
   ]
  },
  {
   "cell_type": "code",
   "execution_count": 6,
   "id": "588e7503",
   "metadata": {
    "execution": {
     "iopub.execute_input": "2022-10-24T09:27:20.857431Z",
     "iopub.status.busy": "2022-10-24T09:27:20.857214Z",
     "iopub.status.idle": "2022-10-24T09:27:20.860636Z",
     "shell.execute_reply": "2022-10-24T09:27:20.860190Z"
    },
    "tags": [
     "raises-exception"
    ]
   },
   "outputs": [],
   "source": [
    "#- Add up the squares of all the even numbers from -2 through 20\n",
    "total = 0\n",
    "for v in np.arange(-2, 21, 2):\n",
    "    squared = v ** 2\n",
    "    total = total + squared\n",
    "print(total)"
   ]
  },
  {
   "cell_type": "markdown",
   "id": "1e3d7da1",
   "metadata": {},
   "source": [
    "Visual check - you should see 1544."
   ]
  },
  {
   "cell_type": "code",
   "execution_count": 7,
   "id": "dfb5a067",
   "metadata": {
    "execution": {
     "iopub.execute_input": "2022-10-24T09:27:20.863275Z",
     "iopub.status.busy": "2022-10-24T09:27:20.863084Z",
     "iopub.status.idle": "2022-10-24T09:27:20.866287Z",
     "shell.execute_reply": "2022-10-24T09:27:20.865728Z"
    }
   },
   "outputs": [],
   "source": [
    "#- Add all the odd numbers from 11 through 21\n",
    "total = 0\n",
    "for value in np.arange(11, 22, 2):\n",
    "    total = total + value\n",
    "print(total)"
   ]
  },
  {
   "cell_type": "markdown",
   "id": "50283eab",
   "metadata": {},
   "source": [
    "Visual check - you should see 96.  If you don't, check that the first number\n",
    "from your `arange` is 11, and the last is 22."
   ]
  },
  {
   "cell_type": "code",
   "execution_count": 8,
   "id": "967339ed",
   "metadata": {
    "execution": {
     "iopub.execute_input": "2022-10-24T09:27:20.869391Z",
     "iopub.status.busy": "2022-10-24T09:27:20.869168Z",
     "iopub.status.idle": "2022-10-24T09:27:20.872441Z",
     "shell.execute_reply": "2022-10-24T09:27:20.871913Z"
    }
   },
   "outputs": [],
   "source": [
    "#- Print all the numbers starting from 100, and subtracting 7\n",
    "#- up to the last positive number.  The first three\n",
    "#- numbers you will print will be 100, 93, 86\n",
    "for i in np.arange(100, 0, -7):\n",
    "    print(i)"
   ]
  },
  {
   "cell_type": "markdown",
   "id": "f01cbc6c",
   "metadata": {},
   "source": [
    "Visual check - you should see the numbers 100, 93, ..., 9, 2 printed, each on\n",
    "one line."
   ]
  },
  {
   "cell_type": "code",
   "execution_count": 9,
   "id": "d5ca8a02",
   "metadata": {
    "execution": {
     "iopub.execute_input": "2022-10-24T09:27:20.875087Z",
     "iopub.status.busy": "2022-10-24T09:27:20.874892Z",
     "iopub.status.idle": "2022-10-24T09:27:20.877980Z",
     "shell.execute_reply": "2022-10-24T09:27:20.877566Z"
    }
   },
   "outputs": [],
   "source": [
    "#- Add every third number in the inclusive range 1 through 19.\n",
    "#- The first two numbers to add will therefore be 1, 4 and the last\n",
    "#- will be 19.\n",
    "total = 0\n",
    "for i in np.arange(1, 22, 3):\n",
    "    total = total + i\n",
    "print(total)"
   ]
  },
  {
   "cell_type": "markdown",
   "id": "323ba7e7",
   "metadata": {},
   "source": [
    "Visual check - the result should be 70."
   ]
  }
 ],
 "metadata": {
  "jupytext": {
   "text_representation": {
    "extension": ".Rmd",
    "format_name": "rmarkdown",
    "format_version": "1.2",
    "jupytext_version": "1.10.3"
   }
  },
  "kernelspec": {
   "display_name": "Python 3 (ipykernel)",
   "language": "python",
   "name": "python3"
  },
  "language_info": {
   "codemirror_mode": {
    "name": "ipython",
    "version": 3
   },
   "file_extension": ".py",
   "mimetype": "text/x-python",
   "name": "python",
   "nbconvert_exporter": "python",
   "pygments_lexer": "ipython3",
   "version": "3.10.7"
  }
 },
 "nbformat": 4,
 "nbformat_minor": 5
}
