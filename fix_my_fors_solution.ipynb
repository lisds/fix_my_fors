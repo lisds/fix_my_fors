{
 "cells": [
  {
   "cell_type": "markdown",
   "id": "c7480592",
   "metadata": {},
   "source": []
  },
  {
   "cell_type": "code",
   "execution_count": 1,
   "id": "f0d8c232",
   "metadata": {
    "execution": {
     "iopub.execute_input": "2022-11-30T18:32:11.701312Z",
     "iopub.status.busy": "2022-11-30T18:32:11.700934Z",
     "iopub.status.idle": "2022-11-30T18:32:11.762187Z",
     "shell.execute_reply": "2022-11-30T18:32:11.761613Z"
    }
   },
   "outputs": [],
   "source": [
    "# Don't change this cell; just run it.\n",
    "import numpy as np  # The array library."
   ]
  },
  {
   "cell_type": "markdown",
   "id": "9bd848a8",
   "metadata": {},
   "source": [
    "This notebook does not have OKpy tests; please check your answers against the\n",
    "\"visual check\" hints after each question.\n",
    "\n",
    "All the cells below have errors in syntax or in logic. A syntax error happens\n",
    "when the code does not correspond to Python's rules; Python generates an error\n",
    "with some information about which bit of the code caused the problem.  A logic\n",
    "error is where the code does run, but does not do what it was intended to do.\n",
    "Run the cells to see the error, and then fix them to work correctly."
   ]
  },
  {
   "cell_type": "code",
   "execution_count": 2,
   "id": "0ecb5910",
   "metadata": {
    "execution": {
     "iopub.execute_input": "2022-11-30T18:32:11.766235Z",
     "iopub.status.busy": "2022-11-30T18:32:11.765848Z",
     "iopub.status.idle": "2022-11-30T18:32:11.771473Z",
     "shell.execute_reply": "2022-11-30T18:32:11.770751Z"
    },
    "tags": [
     "raises-exception"
    ]
   },
   "outputs": [],
   "source": [
    "#- Print the numbers 0 through 2\n",
    "for my_var in np.arange(3):\n",
    "    print(my_var)"
   ]
  },
  {
   "cell_type": "markdown",
   "id": "a79cc6c9",
   "metadata": {},
   "source": [
    "Visual check: you should see:\n",
    "\n",
    "```\n",
    "0\n",
    "1\n",
    "2\n",
    "```"
   ]
  },
  {
   "cell_type": "code",
   "execution_count": 3,
   "id": "2fc55a17",
   "metadata": {
    "execution": {
     "iopub.execute_input": "2022-11-30T18:32:11.776829Z",
     "iopub.status.busy": "2022-11-30T18:32:11.776372Z",
     "iopub.status.idle": "2022-11-30T18:32:11.781128Z",
     "shell.execute_reply": "2022-11-30T18:32:11.779967Z"
    },
    "tags": [
     "raises-exception"
    ]
   },
   "outputs": [],
   "source": [
    "#- Add up all the numbers from 3 through 10\n",
    "total = 0\n",
    "for i in np.arange(3, 11):\n",
    "    total = total + i\n",
    "print(total)"
   ]
  },
  {
   "cell_type": "markdown",
   "id": "9fb94726",
   "metadata": {},
   "source": [
    "Visual check - you should see 52."
   ]
  },
  {
   "cell_type": "code",
   "execution_count": 4,
   "id": "3c9d20c4",
   "metadata": {
    "execution": {
     "iopub.execute_input": "2022-11-30T18:32:11.784332Z",
     "iopub.status.busy": "2022-11-30T18:32:11.784039Z",
     "iopub.status.idle": "2022-11-30T18:32:11.788584Z",
     "shell.execute_reply": "2022-11-30T18:32:11.786958Z"
    },
    "tags": [
     "raises-exception"
    ]
   },
   "outputs": [],
   "source": [
    "#- Print all the numbers from 5 through 9\n",
    "for p in np.arange(5, 10):\n",
    "    print(p)"
   ]
  },
  {
   "cell_type": "markdown",
   "id": "aae851a1",
   "metadata": {},
   "source": [
    "You should see the numbers 5, 6, 7, 8, 9 printed, each on one line."
   ]
  },
  {
   "cell_type": "code",
   "execution_count": 5,
   "id": "425156e2",
   "metadata": {
    "execution": {
     "iopub.execute_input": "2022-11-30T18:32:11.792030Z",
     "iopub.status.busy": "2022-11-30T18:32:11.791489Z",
     "iopub.status.idle": "2022-11-30T18:32:11.796719Z",
     "shell.execute_reply": "2022-11-30T18:32:11.795751Z"
    },
    "tags": [
     "raises-exception"
    ]
   },
   "outputs": [],
   "source": [
    "#- Add all numbers from 3 down to -2, inclusive\n",
    "total = 0\n",
    "for i in np.arange(3, -3, -1):\n",
    "    total = total + i\n",
    "print(total)"
   ]
  },
  {
   "cell_type": "markdown",
   "id": "a9410c05",
   "metadata": {},
   "source": [
    "Visual check - you should have printed 3."
   ]
  },
  {
   "cell_type": "code",
   "execution_count": 6,
   "id": "505a63ec",
   "metadata": {
    "execution": {
     "iopub.execute_input": "2022-11-30T18:32:11.799932Z",
     "iopub.status.busy": "2022-11-30T18:32:11.799682Z",
     "iopub.status.idle": "2022-11-30T18:32:11.804426Z",
     "shell.execute_reply": "2022-11-30T18:32:11.803209Z"
    },
    "tags": [
     "raises-exception"
    ]
   },
   "outputs": [],
   "source": [
    "#- Add up the squares of all the even numbers from -2 through 20\n",
    "total = 0\n",
    "for v in np.arange(-2, 21, 2):\n",
    "    squared = v ** 2\n",
    "    total = total + squared\n",
    "print(total)"
   ]
  },
  {
   "cell_type": "markdown",
   "id": "387bf15e",
   "metadata": {},
   "source": [
    "Visual check - you should see 1544."
   ]
  },
  {
   "cell_type": "code",
   "execution_count": 7,
   "id": "9abe5eae",
   "metadata": {
    "execution": {
     "iopub.execute_input": "2022-11-30T18:32:11.809897Z",
     "iopub.status.busy": "2022-11-30T18:32:11.809305Z",
     "iopub.status.idle": "2022-11-30T18:32:11.814205Z",
     "shell.execute_reply": "2022-11-30T18:32:11.813037Z"
    }
   },
   "outputs": [],
   "source": [
    "#- Add all the odd numbers from 11 through 21\n",
    "total = 0\n",
    "for value in np.arange(11, 22, 2):\n",
    "    total = total + value\n",
    "print(total)"
   ]
  },
  {
   "cell_type": "markdown",
   "id": "b7bd5ee2",
   "metadata": {},
   "source": [
    "Visual check - you should see 96.  If you don't, check that the first number\n",
    "from your `arange` is 11, and the last is 22."
   ]
  },
  {
   "cell_type": "code",
   "execution_count": 8,
   "id": "68e8b343",
   "metadata": {
    "execution": {
     "iopub.execute_input": "2022-11-30T18:32:11.817941Z",
     "iopub.status.busy": "2022-11-30T18:32:11.817569Z",
     "iopub.status.idle": "2022-11-30T18:32:11.823269Z",
     "shell.execute_reply": "2022-11-30T18:32:11.822749Z"
    }
   },
   "outputs": [],
   "source": [
    "#- Print all the numbers starting from 100, and subtracting 7\n",
    "#- up to the last positive number.  The first three\n",
    "#- numbers you will print will be 100, 93, 86\n",
    "for i in np.arange(100, 0, -7):\n",
    "    print(i)"
   ]
  },
  {
   "cell_type": "markdown",
   "id": "c47e6c28",
   "metadata": {},
   "source": [
    "Visual check - you should see the numbers 100, 93, ..., 9, 2 printed, each on\n",
    "one line."
   ]
  },
  {
   "cell_type": "code",
   "execution_count": 9,
   "id": "91f36ce0",
   "metadata": {
    "execution": {
     "iopub.execute_input": "2022-11-30T18:32:11.826576Z",
     "iopub.status.busy": "2022-11-30T18:32:11.826239Z",
     "iopub.status.idle": "2022-11-30T18:32:11.831266Z",
     "shell.execute_reply": "2022-11-30T18:32:11.830444Z"
    }
   },
   "outputs": [],
   "source": [
    "#- Add every third number in the inclusive range 1 through 19.\n",
    "#- The first two numbers to add will therefore be 1, 4 and the last\n",
    "#- will be 19.\n",
    "total = 0\n",
    "for i in np.arange(1, 22, 3):\n",
    "    total = total + i\n",
    "print(total)"
   ]
  },
  {
   "cell_type": "markdown",
   "id": "891138d0",
   "metadata": {},
   "source": [
    "Visual check - the result should be 70."
   ]
  }
 ],
 "metadata": {
  "jupytext": {
   "text_representation": {
    "extension": ".Rmd",
    "format_name": "rmarkdown",
    "format_version": "1.2",
    "jupytext_version": "1.10.3"
   }
  },
  "kernelspec": {
   "display_name": "Python 3 (ipykernel)",
   "language": "python",
   "name": "python3"
  },
  "language_info": {
   "codemirror_mode": {
    "name": "ipython",
    "version": 3
   },
   "file_extension": ".py",
   "mimetype": "text/x-python",
   "name": "python",
   "nbconvert_exporter": "python",
   "pygments_lexer": "ipython3",
   "version": "3.10.7"
  }
 },
 "nbformat": 4,
 "nbformat_minor": 5
}
